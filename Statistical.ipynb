{
 "cells": [
  {
   "cell_type": "code",
   "execution_count": 1,
   "id": "c680770d",
   "metadata": {},
   "outputs": [],
   "source": [
    "# importing necessary libraries\n",
    "\n",
    "import pandas as pd\n",
    "import numpy as np\n",
    "import scipy.stats as stats \n",
    "import matplotlib.pyplot as plt\n",
    "import seaborn as sns\n",
    "import statsmodels.api as sm\n",
    "import statsmodels.formula.api as smf\n"
   ]
  },
  {
   "cell_type": "code",
   "execution_count": 3,
   "id": "df02ea1c",
   "metadata": {},
   "outputs": [],
   "source": [
    "#importing dataset after cleaning it \n",
    "AirlineData = pd.read_csv('after cleaning data/Indian_Airline_data.csv')\n",
    "\n",
    "BusinessData = pd.read_csv('after cleaning data/Business_data.csv')\n",
    "\n",
    "EconomyData = pd.read_csv('after cleaning data/Economy_data.csv')\n",
    "\n",
    "\n"
   ]
  },
  {
   "cell_type": "code",
   "execution_count": 4,
   "id": "c34bce9f",
   "metadata": {},
   "outputs": [
    {
     "name": "stdout",
     "output_type": "stream",
     "text": [
      "T-statistic: -184.7483\n",
      "P-value: 0.0000e+00\n"
     ]
    }
   ],
   "source": [
    "# Perform T-Test to compare mean price between 0 stops and 1 stop flights in AirlineData\n",
    "\n",
    "# Filter data for 0 stops and 1 stop\n",
    "price_0_stop = AirlineData[AirlineData['total_stop'] == 0]['price']\n",
    "price_1_stop = AirlineData[AirlineData['total_stop'] == 1]['price']\n",
    "\n",
    "# Perform independent t-test\n",
    "t_stat, p_value = stats.ttest_ind(price_0_stop, price_1_stop, equal_var=False)\n",
    "\n",
    "print(f\"T-statistic: {t_stat:.4f}\")\n",
    "print(f\"P-value: {p_value:.4e}\")"
   ]
  },
  {
   "cell_type": "code",
   "execution_count": 5,
   "id": "1da8078d",
   "metadata": {},
   "outputs": [
    {
     "name": "stdout",
     "output_type": "stream",
     "text": [
      "F-statistic: 17194.4021\n",
      "P-value: 0.0000e+00\n"
     ]
    }
   ],
   "source": [
    "# Perform one-way ANOVA to compare mean price across all airlines in AirlineData\n",
    "\n",
    "anova_result = stats.f_oneway(\n",
    "    *[group['price'].values for name, group in AirlineData.groupby('airline')]\n",
    ")\n",
    "\n",
    "print(f\"F-statistic: {anova_result.statistic:.4f}\")\n",
    "print(f\"P-value: {anova_result.pvalue:.4e}\")"
   ]
  },
  {
   "cell_type": "code",
   "execution_count": 6,
   "id": "6132a31a",
   "metadata": {},
   "outputs": [
    {
     "name": "stdout",
     "output_type": "stream",
     "text": [
      "Chi-square statistic: 20384.6015\n",
      "P-value: 0.0000e+00\n"
     ]
    }
   ],
   "source": [
    "# Categorize price into Low, Medium, High using quantiles\n",
    "price_bins = pd.qcut(AirlineData['price'], q=3, labels=['Low', 'Medium', 'High'])\n",
    "AirlineData['price_category'] = price_bins\n",
    "\n",
    "# Create a contingency table\n",
    "contingency_table = pd.crosstab(AirlineData['total_stop'], AirlineData['price_category'])\n",
    "\n",
    "# Perform Chi-square test\n",
    "chi2, p, dof, expected = stats.chi2_contingency(contingency_table)\n",
    "\n",
    "print(f\"Chi-square statistic: {chi2:.4f}\")\n",
    "print(f\"P-value: {p:.4e}\")"
   ]
  },
  {
   "cell_type": "code",
   "execution_count": 7,
   "id": "42fee2eb",
   "metadata": {},
   "outputs": [
    {
     "name": "stdout",
     "output_type": "stream",
     "text": [
      "Pearson correlation coefficient: 0.2042\n",
      "P-value: 0.0000e+00\n"
     ]
    }
   ],
   "source": [
    "# Calculate Pearson correlation between duration and price in AirlineData\n",
    "corr, p_corr = stats.pearsonr(AirlineData['duration'], AirlineData['price'])\n",
    "print(f\"Pearson correlation coefficient: {corr:.4f}\")\n",
    "print(f\"P-value: {p_corr:.4e}\")"
   ]
  }
 ],
 "metadata": {
  "kernelspec": {
   "display_name": "base",
   "language": "python",
   "name": "python3"
  },
  "language_info": {
   "codemirror_mode": {
    "name": "ipython",
    "version": 3
   },
   "file_extension": ".py",
   "mimetype": "text/x-python",
   "name": "python",
   "nbconvert_exporter": "python",
   "pygments_lexer": "ipython3",
   "version": "3.12.7"
  }
 },
 "nbformat": 4,
 "nbformat_minor": 5
}
